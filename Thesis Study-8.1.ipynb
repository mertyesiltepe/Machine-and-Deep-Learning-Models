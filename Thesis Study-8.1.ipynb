{
 "cells": [
  {
   "cell_type": "code",
   "execution_count": 1,
   "metadata": {},
   "outputs": [],
   "source": [
    "import pandas as pd\n",
    "import numpy as np\n",
    "import matplotlib.pyplot as plt\n",
    "import tensorflow as tf\n",
    "import tensorflow.keras as keras\n",
    "from tensorflow.keras.models import Sequential\n",
    "from tensorflow.keras.layers import Dense\n",
    "from sklearn.metrics import mean_absolute_error\n",
    "from sklearn.preprocessing import StandardScaler\n",
    "from sklearn.model_selection import train_test_split"
   ]
  },
  {
   "cell_type": "code",
   "execution_count": 2,
   "metadata": {},
   "outputs": [],
   "source": [
    "data_by_month=pd.read_excel(\"DatabyMonth-135-8years.xlsx\")"
   ]
  },
  {
   "cell_type": "code",
   "execution_count": 3,
   "metadata": {},
   "outputs": [],
   "source": [
    "index=pd.date_range(start='2011',end='2019',freq='M',name='Date')"
   ]
  },
  {
   "cell_type": "code",
   "execution_count": 4,
   "metadata": {},
   "outputs": [],
   "source": [
    "data_by_month.index=index"
   ]
  },
  {
   "cell_type": "code",
   "execution_count": 5,
   "metadata": {},
   "outputs": [
    {
     "data": {
      "text/html": [
       "<div>\n",
       "<style scoped>\n",
       "    .dataframe tbody tr th:only-of-type {\n",
       "        vertical-align: middle;\n",
       "    }\n",
       "\n",
       "    .dataframe tbody tr th {\n",
       "        vertical-align: top;\n",
       "    }\n",
       "\n",
       "    .dataframe thead th {\n",
       "        text-align: right;\n",
       "    }\n",
       "</style>\n",
       "<table border=\"1\" class=\"dataframe\">\n",
       "  <thead>\n",
       "    <tr style=\"text-align: right;\">\n",
       "      <th></th>\n",
       "      <th>Truck</th>\n",
       "    </tr>\n",
       "    <tr>\n",
       "      <th>Date</th>\n",
       "      <th></th>\n",
       "    </tr>\n",
       "  </thead>\n",
       "  <tbody>\n",
       "    <tr>\n",
       "      <th>2011-01-31</th>\n",
       "      <td>39</td>\n",
       "    </tr>\n",
       "    <tr>\n",
       "      <th>2011-02-28</th>\n",
       "      <td>41</td>\n",
       "    </tr>\n",
       "    <tr>\n",
       "      <th>2011-03-31</th>\n",
       "      <td>57</td>\n",
       "    </tr>\n",
       "    <tr>\n",
       "      <th>2011-04-30</th>\n",
       "      <td>61</td>\n",
       "    </tr>\n",
       "    <tr>\n",
       "      <th>2011-05-31</th>\n",
       "      <td>54</td>\n",
       "    </tr>\n",
       "  </tbody>\n",
       "</table>\n",
       "</div>"
      ],
      "text/plain": [
       "            Truck\n",
       "Date             \n",
       "2011-01-31     39\n",
       "2011-02-28     41\n",
       "2011-03-31     57\n",
       "2011-04-30     61\n",
       "2011-05-31     54"
      ]
     },
     "execution_count": 5,
     "metadata": {},
     "output_type": "execute_result"
    }
   ],
   "source": [
    "data_by_month.head()"
   ]
  },
  {
   "cell_type": "code",
   "execution_count": 6,
   "metadata": {},
   "outputs": [],
   "source": [
    "data_by_month['month']=data_by_month.index.month\n",
    "data_by_month['quarter']=data_by_month.index.quarter"
   ]
  },
  {
   "cell_type": "code",
   "execution_count": 7,
   "metadata": {},
   "outputs": [
    {
     "data": {
      "text/html": [
       "<div>\n",
       "<style scoped>\n",
       "    .dataframe tbody tr th:only-of-type {\n",
       "        vertical-align: middle;\n",
       "    }\n",
       "\n",
       "    .dataframe tbody tr th {\n",
       "        vertical-align: top;\n",
       "    }\n",
       "\n",
       "    .dataframe thead th {\n",
       "        text-align: right;\n",
       "    }\n",
       "</style>\n",
       "<table border=\"1\" class=\"dataframe\">\n",
       "  <thead>\n",
       "    <tr style=\"text-align: right;\">\n",
       "      <th></th>\n",
       "      <th>Truck</th>\n",
       "      <th>month</th>\n",
       "      <th>quarter</th>\n",
       "    </tr>\n",
       "    <tr>\n",
       "      <th>Date</th>\n",
       "      <th></th>\n",
       "      <th></th>\n",
       "      <th></th>\n",
       "    </tr>\n",
       "  </thead>\n",
       "  <tbody>\n",
       "    <tr>\n",
       "      <th>2011-01-31</th>\n",
       "      <td>39</td>\n",
       "      <td>1</td>\n",
       "      <td>1</td>\n",
       "    </tr>\n",
       "    <tr>\n",
       "      <th>2011-02-28</th>\n",
       "      <td>41</td>\n",
       "      <td>2</td>\n",
       "      <td>1</td>\n",
       "    </tr>\n",
       "    <tr>\n",
       "      <th>2011-03-31</th>\n",
       "      <td>57</td>\n",
       "      <td>3</td>\n",
       "      <td>1</td>\n",
       "    </tr>\n",
       "    <tr>\n",
       "      <th>2011-04-30</th>\n",
       "      <td>61</td>\n",
       "      <td>4</td>\n",
       "      <td>2</td>\n",
       "    </tr>\n",
       "    <tr>\n",
       "      <th>2011-05-31</th>\n",
       "      <td>54</td>\n",
       "      <td>5</td>\n",
       "      <td>2</td>\n",
       "    </tr>\n",
       "    <tr>\n",
       "      <th>...</th>\n",
       "      <td>...</td>\n",
       "      <td>...</td>\n",
       "      <td>...</td>\n",
       "    </tr>\n",
       "    <tr>\n",
       "      <th>2018-08-31</th>\n",
       "      <td>10</td>\n",
       "      <td>8</td>\n",
       "      <td>3</td>\n",
       "    </tr>\n",
       "    <tr>\n",
       "      <th>2018-09-30</th>\n",
       "      <td>27</td>\n",
       "      <td>9</td>\n",
       "      <td>3</td>\n",
       "    </tr>\n",
       "    <tr>\n",
       "      <th>2018-10-31</th>\n",
       "      <td>19</td>\n",
       "      <td>10</td>\n",
       "      <td>4</td>\n",
       "    </tr>\n",
       "    <tr>\n",
       "      <th>2018-11-30</th>\n",
       "      <td>25</td>\n",
       "      <td>11</td>\n",
       "      <td>4</td>\n",
       "    </tr>\n",
       "    <tr>\n",
       "      <th>2018-12-31</th>\n",
       "      <td>19</td>\n",
       "      <td>12</td>\n",
       "      <td>4</td>\n",
       "    </tr>\n",
       "  </tbody>\n",
       "</table>\n",
       "<p>96 rows × 3 columns</p>\n",
       "</div>"
      ],
      "text/plain": [
       "            Truck  month  quarter\n",
       "Date                             \n",
       "2011-01-31     39      1        1\n",
       "2011-02-28     41      2        1\n",
       "2011-03-31     57      3        1\n",
       "2011-04-30     61      4        2\n",
       "2011-05-31     54      5        2\n",
       "...           ...    ...      ...\n",
       "2018-08-31     10      8        3\n",
       "2018-09-30     27      9        3\n",
       "2018-10-31     19     10        4\n",
       "2018-11-30     25     11        4\n",
       "2018-12-31     19     12        4\n",
       "\n",
       "[96 rows x 3 columns]"
      ]
     },
     "execution_count": 7,
     "metadata": {},
     "output_type": "execute_result"
    }
   ],
   "source": [
    "data_by_month"
   ]
  },
  {
   "cell_type": "code",
   "execution_count": 8,
   "metadata": {},
   "outputs": [],
   "source": [
    "split_data=70\n",
    "x_train=data_by_month.iloc[:split_data,1:].values\n",
    "x_test=data_by_month.iloc[split_data:,1:].values\n",
    "y_train=data_by_month.iloc[:split_data,0].values\n",
    "y_test=data_by_month.iloc[split_data:,0].values"
   ]
  },
  {
   "cell_type": "code",
   "execution_count": 9,
   "metadata": {},
   "outputs": [],
   "source": [
    "scaler=StandardScaler()"
   ]
  },
  {
   "cell_type": "code",
   "execution_count": 10,
   "metadata": {},
   "outputs": [],
   "source": [
    "x_train=scaler.fit_transform(x_train)\n",
    "x_test=scaler.transform(x_test)"
   ]
  },
  {
   "cell_type": "code",
   "execution_count": 11,
   "metadata": {},
   "outputs": [
    {
     "name": "stdout",
     "output_type": "stream",
     "text": [
      "Epoch 1/50\n",
      "3/3 [==============================] - 0s 51ms/step - loss: 32.4325 - val_loss: 22.9360\n",
      "Epoch 2/50\n",
      "3/3 [==============================] - 0s 9ms/step - loss: 31.6138 - val_loss: 22.2299\n",
      "Epoch 3/50\n",
      "3/3 [==============================] - 0s 8ms/step - loss: 30.9762 - val_loss: 21.2686\n",
      "Epoch 4/50\n",
      "3/3 [==============================] - 0s 8ms/step - loss: 30.0462 - val_loss: 19.9819\n",
      "Epoch 5/50\n",
      "3/3 [==============================] - 0s 9ms/step - loss: 28.8635 - val_loss: 18.2471\n",
      "Epoch 6/50\n",
      "3/3 [==============================] - 0s 8ms/step - loss: 27.2888 - val_loss: 16.0235\n",
      "Epoch 7/50\n",
      "3/3 [==============================] - 0s 8ms/step - loss: 25.2058 - val_loss: 14.5081\n",
      "Epoch 8/50\n",
      "3/3 [==============================] - 0s 9ms/step - loss: 23.1313 - val_loss: 14.9888\n",
      "Epoch 9/50\n",
      "3/3 [==============================] - 0s 10ms/step - loss: 21.3072 - val_loss: 16.6332\n",
      "Epoch 10/50\n",
      "3/3 [==============================] - 0s 8ms/step - loss: 20.4574 - val_loss: 17.7845\n",
      "Epoch 11/50\n",
      "3/3 [==============================] - 0s 8ms/step - loss: 20.5157 - val_loss: 17.3140\n",
      "Epoch 12/50\n",
      "3/3 [==============================] - 0s 7ms/step - loss: 19.6238 - val_loss: 15.5532\n",
      "Epoch 13/50\n",
      "3/3 [==============================] - 0s 8ms/step - loss: 18.0414 - val_loss: 13.3842\n",
      "Epoch 14/50\n",
      "3/3 [==============================] - 0s 8ms/step - loss: 16.6031 - val_loss: 11.0149\n",
      "Epoch 15/50\n",
      "3/3 [==============================] - 0s 9ms/step - loss: 15.4945 - val_loss: 9.7077\n",
      "Epoch 16/50\n",
      "3/3 [==============================] - 0s 8ms/step - loss: 14.6671 - val_loss: 8.9945\n",
      "Epoch 17/50\n",
      "3/3 [==============================] - 0s 7ms/step - loss: 14.3103 - val_loss: 9.1982\n",
      "Epoch 18/50\n",
      "3/3 [==============================] - 0s 9ms/step - loss: 13.8559 - val_loss: 10.0750\n",
      "Epoch 19/50\n",
      "3/3 [==============================] - 0s 8ms/step - loss: 13.3651 - val_loss: 10.8545\n",
      "Epoch 20/50\n",
      "3/3 [==============================] - 0s 9ms/step - loss: 13.1507 - val_loss: 11.1515\n",
      "Epoch 21/50\n",
      "3/3 [==============================] - 0s 10ms/step - loss: 12.8932 - val_loss: 11.1764\n",
      "Epoch 22/50\n",
      "3/3 [==============================] - 0s 11ms/step - loss: 12.5137 - val_loss: 11.0384\n",
      "Epoch 23/50\n",
      "3/3 [==============================] - 0s 9ms/step - loss: 12.0358 - val_loss: 11.0521\n",
      "Epoch 24/50\n",
      "3/3 [==============================] - 0s 9ms/step - loss: 11.6661 - val_loss: 10.6990\n",
      "Epoch 25/50\n",
      "3/3 [==============================] - 0s 9ms/step - loss: 11.2251 - val_loss: 9.9900\n",
      "Epoch 26/50\n",
      "3/3 [==============================] - 0s 9ms/step - loss: 10.9008 - val_loss: 9.3952\n",
      "Epoch 27/50\n",
      "3/3 [==============================] - 0s 8ms/step - loss: 10.6415 - val_loss: 9.1213\n",
      "Epoch 28/50\n",
      "3/3 [==============================] - 0s 10ms/step - loss: 10.5033 - val_loss: 8.7746\n",
      "Epoch 29/50\n",
      "3/3 [==============================] - 0s 9ms/step - loss: 10.4437 - val_loss: 8.1782\n",
      "Epoch 30/50\n",
      "3/3 [==============================] - 0s 7ms/step - loss: 10.1591 - val_loss: 7.5900\n",
      "Epoch 31/50\n",
      "3/3 [==============================] - 0s 9ms/step - loss: 9.9465 - val_loss: 7.8651\n",
      "Epoch 32/50\n",
      "3/3 [==============================] - 0s 8ms/step - loss: 10.0307 - val_loss: 7.8527\n",
      "Epoch 33/50\n",
      "3/3 [==============================] - 0s 7ms/step - loss: 10.2935 - val_loss: 7.5617\n",
      "Epoch 34/50\n",
      "3/3 [==============================] - 0s 9ms/step - loss: 10.1545 - val_loss: 7.0663\n",
      "Epoch 35/50\n",
      "3/3 [==============================] - 0s 8ms/step - loss: 9.8180 - val_loss: 6.6968\n",
      "Epoch 36/50\n",
      "3/3 [==============================] - 0s 8ms/step - loss: 9.7710 - val_loss: 6.2177\n",
      "Epoch 37/50\n",
      "3/3 [==============================] - 0s 9ms/step - loss: 10.0150 - val_loss: 5.9972\n",
      "Epoch 38/50\n",
      "3/3 [==============================] - 0s 9ms/step - loss: 10.1544 - val_loss: 6.1299\n",
      "Epoch 39/50\n",
      "3/3 [==============================] - 0s 7ms/step - loss: 10.1932 - val_loss: 6.6700\n",
      "Epoch 40/50\n",
      "3/3 [==============================] - 0s 9ms/step - loss: 10.1750 - val_loss: 7.2776\n",
      "Epoch 41/50\n",
      "3/3 [==============================] - 0s 8ms/step - loss: 10.1327 - val_loss: 7.7389\n",
      "Epoch 42/50\n",
      "3/3 [==============================] - 0s 10ms/step - loss: 10.0217 - val_loss: 7.8163\n",
      "Epoch 43/50\n",
      "3/3 [==============================] - 0s 11ms/step - loss: 10.0289 - val_loss: 8.1321\n",
      "Epoch 44/50\n",
      "3/3 [==============================] - 0s 8ms/step - loss: 10.0338 - val_loss: 8.4455\n",
      "Epoch 45/50\n",
      "3/3 [==============================] - 0s 9ms/step - loss: 10.0205 - val_loss: 9.0254\n",
      "Epoch 46/50\n",
      "3/3 [==============================] - 0s 9ms/step - loss: 10.0692 - val_loss: 9.7350\n",
      "Epoch 47/50\n",
      "3/3 [==============================] - 0s 10ms/step - loss: 10.0484 - val_loss: 9.5628\n",
      "Epoch 48/50\n",
      "3/3 [==============================] - 0s 8ms/step - loss: 10.0207 - val_loss: 8.3033\n",
      "Epoch 49/50\n",
      "3/3 [==============================] - 0s 9ms/step - loss: 9.9602 - val_loss: 7.1102\n",
      "Epoch 50/50\n",
      "3/3 [==============================] - 0s 9ms/step - loss: 9.9379 - val_loss: 6.3527\n"
     ]
    },
    {
     "data": {
      "text/plain": [
       "<tensorflow.python.keras.callbacks.History at 0x1d7187ab340>"
      ]
     },
     "execution_count": 11,
     "metadata": {},
     "output_type": "execute_result"
    }
   ],
   "source": [
    "nn_model=Sequential()\n",
    "nn_model.add(Dense(36,input_shape=(x_train.shape[1],)))\n",
    "nn_model.add(Dense(18,activation='relu'))\n",
    "nn_model.add(Dense(1))\n",
    "nn_model.compile(optimizer=tf.keras.optimizers.Adam(learning_rate=1e-2),loss='mean_absolute_error')\n",
    "nn_model.fit(x_train,y_train,epochs=50,validation_data=(x_test,y_test))"
   ]
  },
  {
   "cell_type": "code",
   "execution_count": 12,
   "metadata": {},
   "outputs": [],
   "source": [
    "y_pred=nn_model.predict(x_test)\n",
    "comp=pd.DataFrame()"
   ]
  },
  {
   "cell_type": "code",
   "execution_count": 13,
   "metadata": {},
   "outputs": [
    {
     "data": {
      "text/html": [
       "<div>\n",
       "<style scoped>\n",
       "    .dataframe tbody tr th:only-of-type {\n",
       "        vertical-align: middle;\n",
       "    }\n",
       "\n",
       "    .dataframe tbody tr th {\n",
       "        vertical-align: top;\n",
       "    }\n",
       "\n",
       "    .dataframe thead th {\n",
       "        text-align: right;\n",
       "    }\n",
       "</style>\n",
       "<table border=\"1\" class=\"dataframe\">\n",
       "  <thead>\n",
       "    <tr style=\"text-align: right;\">\n",
       "      <th></th>\n",
       "      <th>y_test</th>\n",
       "      <th>y_pred</th>\n",
       "    </tr>\n",
       "  </thead>\n",
       "  <tbody>\n",
       "    <tr>\n",
       "      <th>0</th>\n",
       "      <td>15</td>\n",
       "      <td>28.055899</td>\n",
       "    </tr>\n",
       "    <tr>\n",
       "      <th>1</th>\n",
       "      <td>18</td>\n",
       "      <td>29.544720</td>\n",
       "    </tr>\n",
       "    <tr>\n",
       "      <th>2</th>\n",
       "      <td>26</td>\n",
       "      <td>37.684082</td>\n",
       "    </tr>\n",
       "    <tr>\n",
       "      <th>3</th>\n",
       "      <td>26</td>\n",
       "      <td>36.575104</td>\n",
       "    </tr>\n",
       "    <tr>\n",
       "      <th>4</th>\n",
       "      <td>29</td>\n",
       "      <td>35.466110</td>\n",
       "    </tr>\n",
       "    <tr>\n",
       "      <th>5</th>\n",
       "      <td>31</td>\n",
       "      <td>29.507780</td>\n",
       "    </tr>\n",
       "    <tr>\n",
       "      <th>6</th>\n",
       "      <td>28</td>\n",
       "      <td>29.024523</td>\n",
       "    </tr>\n",
       "    <tr>\n",
       "      <th>7</th>\n",
       "      <td>23</td>\n",
       "      <td>28.020229</td>\n",
       "    </tr>\n",
       "    <tr>\n",
       "      <th>8</th>\n",
       "      <td>21</td>\n",
       "      <td>20.931099</td>\n",
       "    </tr>\n",
       "    <tr>\n",
       "      <th>9</th>\n",
       "      <td>17</td>\n",
       "      <td>20.798531</td>\n",
       "    </tr>\n",
       "    <tr>\n",
       "      <th>10</th>\n",
       "      <td>20</td>\n",
       "      <td>22.287350</td>\n",
       "    </tr>\n",
       "    <tr>\n",
       "      <th>11</th>\n",
       "      <td>18</td>\n",
       "      <td>26.567081</td>\n",
       "    </tr>\n",
       "    <tr>\n",
       "      <th>12</th>\n",
       "      <td>27</td>\n",
       "      <td>28.055899</td>\n",
       "    </tr>\n",
       "    <tr>\n",
       "      <th>13</th>\n",
       "      <td>26</td>\n",
       "      <td>29.544720</td>\n",
       "    </tr>\n",
       "    <tr>\n",
       "      <th>14</th>\n",
       "      <td>30</td>\n",
       "      <td>37.684082</td>\n",
       "    </tr>\n",
       "    <tr>\n",
       "      <th>15</th>\n",
       "      <td>22</td>\n",
       "      <td>36.575104</td>\n",
       "    </tr>\n",
       "    <tr>\n",
       "      <th>16</th>\n",
       "      <td>29</td>\n",
       "      <td>35.466110</td>\n",
       "    </tr>\n",
       "    <tr>\n",
       "      <th>17</th>\n",
       "      <td>27</td>\n",
       "      <td>29.507780</td>\n",
       "    </tr>\n",
       "    <tr>\n",
       "      <th>18</th>\n",
       "      <td>24</td>\n",
       "      <td>29.024523</td>\n",
       "    </tr>\n",
       "    <tr>\n",
       "      <th>19</th>\n",
       "      <td>31</td>\n",
       "      <td>28.020229</td>\n",
       "    </tr>\n",
       "    <tr>\n",
       "      <th>20</th>\n",
       "      <td>30</td>\n",
       "      <td>20.931099</td>\n",
       "    </tr>\n",
       "    <tr>\n",
       "      <th>21</th>\n",
       "      <td>10</td>\n",
       "      <td>20.798531</td>\n",
       "    </tr>\n",
       "    <tr>\n",
       "      <th>22</th>\n",
       "      <td>27</td>\n",
       "      <td>22.287350</td>\n",
       "    </tr>\n",
       "    <tr>\n",
       "      <th>23</th>\n",
       "      <td>19</td>\n",
       "      <td>26.567081</td>\n",
       "    </tr>\n",
       "    <tr>\n",
       "      <th>24</th>\n",
       "      <td>25</td>\n",
       "      <td>28.055901</td>\n",
       "    </tr>\n",
       "    <tr>\n",
       "      <th>25</th>\n",
       "      <td>19</td>\n",
       "      <td>29.544720</td>\n",
       "    </tr>\n",
       "  </tbody>\n",
       "</table>\n",
       "</div>"
      ],
      "text/plain": [
       "    y_test     y_pred\n",
       "0       15  28.055899\n",
       "1       18  29.544720\n",
       "2       26  37.684082\n",
       "3       26  36.575104\n",
       "4       29  35.466110\n",
       "5       31  29.507780\n",
       "6       28  29.024523\n",
       "7       23  28.020229\n",
       "8       21  20.931099\n",
       "9       17  20.798531\n",
       "10      20  22.287350\n",
       "11      18  26.567081\n",
       "12      27  28.055899\n",
       "13      26  29.544720\n",
       "14      30  37.684082\n",
       "15      22  36.575104\n",
       "16      29  35.466110\n",
       "17      27  29.507780\n",
       "18      24  29.024523\n",
       "19      31  28.020229\n",
       "20      30  20.931099\n",
       "21      10  20.798531\n",
       "22      27  22.287350\n",
       "23      19  26.567081\n",
       "24      25  28.055901\n",
       "25      19  29.544720"
      ]
     },
     "execution_count": 13,
     "metadata": {},
     "output_type": "execute_result"
    }
   ],
   "source": [
    "comp['y_test']=y_test\n",
    "comp['y_pred']=y_pred\n",
    "comp"
   ]
  },
  {
   "cell_type": "code",
   "execution_count": 14,
   "metadata": {},
   "outputs": [
    {
     "data": {
      "text/plain": [
       "6.3527123377873345"
      ]
     },
     "execution_count": 14,
     "metadata": {},
     "output_type": "execute_result"
    }
   ],
   "source": [
    "mean_absolute_error(y_test,y_pred)"
   ]
  },
  {
   "cell_type": "code",
   "execution_count": 15,
   "metadata": {},
   "outputs": [
    {
     "data": {
      "image/png": "[encoded data removed]",
      "text/plain": [
       "<Figure size 432x288 with 1 Axes>"
      ]
     },
     "metadata": {
      "needs_background": "light"
     },
     "output_type": "display_data"
    }
   ],
   "source": [
    "plt.plot(y_test, marker='.', label=\"test\")\n",
    "plt.plot(y_pred, 'r', marker='.',label=\"prediction\")\n",
    "plt.ylabel('Truck')\n",
    "plt.xlabel('Month')\n",
    "plt.legend()\n",
    "plt.show();"
   ]
  },
  {
   "cell_type": "code",
   "execution_count": 16,
   "metadata": {},
   "outputs": [
    {
     "data": {
      "text/plain": [
       "[<matplotlib.lines.Line2D at 0x1d71bd2bb20>]"
      ]
     },
     "execution_count": 16,
     "metadata": {},
     "output_type": "execute_result"
    },
    {
     "data": {
      "image/png": "[encoded data removed]",
      "text/plain": [
       "<Figure size 432x288 with 1 Axes>"
      ]
     },
     "metadata": {
      "needs_background": "light"
     },
     "output_type": "display_data"
    }
   ],
   "source": [
    "y_pred_df=pd.DataFrame(y_pred,columns=['Truck'])\n",
    "y_pred_df.index=data_by_month.index[split_data:]\n",
    "plt.plot(data_by_month['Truck'])\n",
    "plt.plot(y_pred_df)"
   ]
  },
  {
   "cell_type": "code",
   "execution_count": null,
   "metadata": {},
   "outputs": [],
   "source": []
  }
 ],
 "metadata": {
  "kernelspec": {
   "display_name": "Python 3",
   "language": "python",
   "name": "python3"
  },
  "language_info": {
   "codemirror_mode": {
    "name": "ipython",
    "version": 3
   },
   "file_extension": ".py",
   "mimetype": "text/x-python",
   "name": "python",
   "nbconvert_exporter": "python",
   "pygments_lexer": "ipython3",
   "version": "3.8.5"
  }
 },
 "nbformat": 4,
 "nbformat_minor": 4
}
