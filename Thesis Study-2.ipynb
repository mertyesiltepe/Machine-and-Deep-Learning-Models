{
 "cells": [
  {
   "cell_type": "code",
   "execution_count": 37,
   "metadata": {},
   "outputs": [],
   "source": [
    "import numpy as pd\n",
    "import pandas as pd\n",
    "import matplotlib.pyplot as plt\n",
    "\n",
    "% matplotlib inline"
   ]
  },
  {
   "cell_type": "code",
   "execution_count": 38,
   "metadata": {},
   "outputs": [],
   "source": [
    "dataWeekly=pd.read_excel(\"DatabyWeek-135-3years.xlsx\")"
   ]
  },
  {
   "cell_type": "code",
   "execution_count": 39,
   "metadata": {},
   "outputs": [
    {
     "data": {
      "text/html": [
       "<div>\n",
       "<style scoped>\n",
       "    .dataframe tbody tr th:only-of-type {\n",
       "        vertical-align: middle;\n",
       "    }\n",
       "\n",
       "    .dataframe tbody tr th {\n",
       "        vertical-align: top;\n",
       "    }\n",
       "\n",
       "    .dataframe thead th {\n",
       "        text-align: right;\n",
       "    }\n",
       "</style>\n",
       "<table border=\"1\" class=\"dataframe\">\n",
       "  <thead>\n",
       "    <tr style=\"text-align: right;\">\n",
       "      <th></th>\n",
       "      <th>Hafta</th>\n",
       "      <th>Tır</th>\n",
       "      <th>Chw</th>\n",
       "    </tr>\n",
       "  </thead>\n",
       "  <tbody>\n",
       "    <tr>\n",
       "      <th>0</th>\n",
       "      <td>1</td>\n",
       "      <td>6</td>\n",
       "      <td>169787.573</td>\n",
       "    </tr>\n",
       "    <tr>\n",
       "      <th>1</th>\n",
       "      <td>2</td>\n",
       "      <td>7</td>\n",
       "      <td>203440.994</td>\n",
       "    </tr>\n",
       "    <tr>\n",
       "      <th>2</th>\n",
       "      <td>3</td>\n",
       "      <td>10</td>\n",
       "      <td>254779.800</td>\n",
       "    </tr>\n",
       "    <tr>\n",
       "      <th>3</th>\n",
       "      <td>4</td>\n",
       "      <td>10</td>\n",
       "      <td>265041.547</td>\n",
       "    </tr>\n",
       "    <tr>\n",
       "      <th>4</th>\n",
       "      <td>5</td>\n",
       "      <td>9</td>\n",
       "      <td>241216.755</td>\n",
       "    </tr>\n",
       "  </tbody>\n",
       "</table>\n",
       "</div>"
      ],
      "text/plain": [
       "   Hafta  Tır         Chw\n",
       "0      1    6  169787.573\n",
       "1      2    7  203440.994\n",
       "2      3   10  254779.800\n",
       "3      4   10  265041.547\n",
       "4      5    9  241216.755"
      ]
     },
     "execution_count": 39,
     "metadata": {},
     "output_type": "execute_result"
    }
   ],
   "source": [
    "dataWeekly.head()"
   ]
  },
  {
   "cell_type": "code",
   "execution_count": 40,
   "metadata": {},
   "outputs": [
    {
     "data": {
      "text/plain": [
       "array([[1.00000000e+00, 1.69787573e+05],\n",
       "       [2.00000000e+00, 2.03440994e+05],\n",
       "       [3.00000000e+00, 2.54779800e+05],\n",
       "       [4.00000000e+00, 2.65041547e+05],\n",
       "       [5.00000000e+00, 2.41216755e+05],\n",
       "       [6.00000000e+00, 2.16874498e+05],\n",
       "       [7.00000000e+00, 2.22721828e+05],\n",
       "       [8.00000000e+00, 3.45791745e+05],\n",
       "       [9.00000000e+00, 3.40279488e+05],\n",
       "       [1.00000000e+01, 3.08563547e+05],\n",
       "       [1.10000000e+01, 2.06247982e+05],\n",
       "       [1.20000000e+01, 4.63888247e+05],\n",
       "       [1.30000000e+01, 3.59535600e+05],\n",
       "       [1.40000000e+01, 2.75913778e+05],\n",
       "       [1.50000000e+01, 3.82732501e+05],\n",
       "       [1.60000000e+01, 3.11317118e+05],\n",
       "       [1.70000000e+01, 2.79836956e+05],\n",
       "       [1.80000000e+01, 3.55973697e+05],\n",
       "       [1.90000000e+01, 3.10434854e+05],\n",
       "       [2.00000000e+01, 2.55906055e+05],\n",
       "       [2.10000000e+01, 3.68729435e+05],\n",
       "       [2.20000000e+01, 5.57521848e+05],\n",
       "       [2.30000000e+01, 3.06361368e+05],\n",
       "       [2.40000000e+01, 4.01067336e+05],\n",
       "       [2.50000000e+01, 3.80384126e+05],\n",
       "       [2.60000000e+01, 4.43876563e+05],\n",
       "       [2.70000000e+01, 2.45764837e+05],\n",
       "       [2.80000000e+01, 2.47187748e+05],\n",
       "       [2.90000000e+01, 3.89568937e+05],\n",
       "       [3.00000000e+01, 2.77115746e+05],\n",
       "       [3.10000000e+01, 7.69659310e+04],\n",
       "       [3.20000000e+01, 1.00898788e+05],\n",
       "       [3.30000000e+01, 1.35619073e+05],\n",
       "       [3.40000000e+01, 5.34600279e+05],\n",
       "       [3.50000000e+01, 1.82215052e+05],\n",
       "       [3.60000000e+01, 1.85833489e+05],\n",
       "       [3.70000000e+01, 3.35996073e+05],\n",
       "       [3.80000000e+01, 1.95397794e+05],\n",
       "       [3.90000000e+01, 3.18763240e+05],\n",
       "       [4.00000000e+01, 2.55291336e+05],\n",
       "       [4.10000000e+01, 4.00281333e+05],\n",
       "       [4.20000000e+01, 2.24030127e+05],\n",
       "       [4.30000000e+01, 3.06240893e+05],\n",
       "       [4.40000000e+01, 1.94155240e+05],\n",
       "       [4.50000000e+01, 1.85765802e+05],\n",
       "       [4.60000000e+01, 2.62331780e+05],\n",
       "       [4.70000000e+01, 2.92400501e+05],\n",
       "       [4.80000000e+01, 3.66412475e+05],\n",
       "       [4.90000000e+01, 2.02398888e+05],\n",
       "       [5.00000000e+01, 2.81668078e+05],\n",
       "       [5.10000000e+01, 1.07774948e+05],\n",
       "       [5.20000000e+01, 3.15012044e+05],\n",
       "       [1.00000000e+00, 1.51675923e+05],\n",
       "       [2.00000000e+00, 3.23338510e+05],\n",
       "       [3.00000000e+00, 1.74949769e+05],\n",
       "       [4.00000000e+00, 1.66322453e+05],\n",
       "       [5.00000000e+00, 1.93164373e+05],\n",
       "       [6.00000000e+00, 2.19142282e+05],\n",
       "       [7.00000000e+00, 2.39339114e+05],\n",
       "       [8.00000000e+00, 2.96836923e+05],\n",
       "       [9.00000000e+00, 3.29647906e+05],\n",
       "       [1.00000000e+01, 1.87498157e+05],\n",
       "       [1.10000000e+01, 2.11738268e+05],\n",
       "       [1.20000000e+01, 3.15283738e+05],\n",
       "       [1.30000000e+01, 2.08178079e+05],\n",
       "       [1.40000000e+01, 2.26248350e+05],\n",
       "       [1.50000000e+01, 2.37697567e+05],\n",
       "       [1.60000000e+01, 2.05945505e+05],\n",
       "       [1.70000000e+01, 1.53389675e+05],\n",
       "       [1.80000000e+01, 1.65941133e+05],\n",
       "       [1.90000000e+01, 1.69720392e+05],\n",
       "       [2.00000000e+01, 2.00539915e+05],\n",
       "       [2.10000000e+01, 2.22438514e+05],\n",
       "       [2.20000000e+01, 2.46659863e+05],\n",
       "       [2.30000000e+01, 9.66419234e+04],\n",
       "       [2.40000000e+01, 1.77127966e+05],\n",
       "       [2.50000000e+01, 2.30664592e+05],\n",
       "       [2.60000000e+01, 1.15982738e+05],\n",
       "       [2.70000000e+01, 3.54580314e+05],\n",
       "       [2.80000000e+01, 1.24716635e+05],\n",
       "       [2.90000000e+01, 4.43818264e+05],\n",
       "       [3.00000000e+01, 2.56325329e+05],\n",
       "       [3.10000000e+01, 2.41778525e+05],\n",
       "       [3.20000000e+01, 6.17918652e+04],\n",
       "       [3.30000000e+01, 2.12808643e+05],\n",
       "       [3.40000000e+01, 4.30764605e+05],\n",
       "       [3.50000000e+01, 2.43567026e+05],\n",
       "       [3.60000000e+01, 2.54065931e+05],\n",
       "       [3.70000000e+01, 2.97044771e+05],\n",
       "       [3.80000000e+01, 2.64022813e+05],\n",
       "       [3.90000000e+01, 3.66004662e+05],\n",
       "       [4.00000000e+01, 3.17270474e+05],\n",
       "       [4.10000000e+01, 1.78607280e+05],\n",
       "       [4.20000000e+01, 2.55235921e+05],\n",
       "       [4.30000000e+01, 7.16205284e+04],\n",
       "       [4.40000000e+01, 2.97688143e+05],\n",
       "       [4.50000000e+01, 2.24248075e+05],\n",
       "       [4.60000000e+01, 1.68496985e+05],\n",
       "       [4.70000000e+01, 2.12529810e+05],\n",
       "       [4.80000000e+01, 1.72233152e+05],\n",
       "       [4.90000000e+01, 3.53371615e+05],\n",
       "       [5.00000000e+01, 1.86075563e+05],\n",
       "       [5.10000000e+01, 9.04002521e+04],\n",
       "       [5.20000000e+01, 2.89115579e+05],\n",
       "       [1.00000000e+00, 3.40640092e+05],\n",
       "       [2.00000000e+00, 2.67693160e+05],\n",
       "       [3.00000000e+00, 2.30355449e+05],\n",
       "       [4.00000000e+00, 2.01542731e+05],\n",
       "       [5.00000000e+00, 1.53394843e+05],\n",
       "       [6.00000000e+00, 2.15564349e+05],\n",
       "       [7.00000000e+00, 1.80440585e+05],\n",
       "       [8.00000000e+00, 2.30640472e+05],\n",
       "       [9.00000000e+00, 2.32093892e+05],\n",
       "       [1.00000000e+01, 1.80811440e+05],\n",
       "       [1.10000000e+01, 2.16364696e+05],\n",
       "       [1.20000000e+01, 2.43850764e+05],\n",
       "       [1.30000000e+01, 2.59410017e+05],\n",
       "       [1.40000000e+01, 2.12927590e+05],\n",
       "       [1.50000000e+01, 2.24130271e+05],\n",
       "       [1.60000000e+01, 1.82224505e+05],\n",
       "       [1.70000000e+01, 1.67631277e+05],\n",
       "       [1.80000000e+01, 1.84873204e+05],\n",
       "       [1.90000000e+01, 2.08060859e+05],\n",
       "       [2.00000000e+01, 1.97217422e+05],\n",
       "       [2.10000000e+01, 2.62128621e+05],\n",
       "       [2.20000000e+01, 2.35931643e+05],\n",
       "       [2.30000000e+01, 2.62523166e+05],\n",
       "       [2.40000000e+01, 3.24406306e+05],\n",
       "       [2.50000000e+01, 3.11597580e+05],\n",
       "       [2.60000000e+01, 2.38430374e+05],\n",
       "       [2.70000000e+01, 1.55278374e+05],\n",
       "       [2.80000000e+01, 1.98923641e+05],\n",
       "       [2.90000000e+01, 1.83837129e+05],\n",
       "       [3.00000000e+01, 1.23471990e+05],\n",
       "       [3.10000000e+01, 9.58589675e+04],\n",
       "       [3.20000000e+01, 4.08164214e+04],\n",
       "       [3.30000000e+01, 5.51973349e+04],\n",
       "       [3.40000000e+01, 1.68116121e+05],\n",
       "       [3.50000000e+01, 1.58372033e+05],\n",
       "       [3.60000000e+01, 2.84474732e+05],\n",
       "       [3.70000000e+01, 1.06782464e+05],\n",
       "       [3.80000000e+01, 2.05323806e+05],\n",
       "       [3.90000000e+01, 2.29193986e+05],\n",
       "       [4.00000000e+01, 1.88226548e+05],\n",
       "       [4.10000000e+01, 2.60535605e+05],\n",
       "       [4.20000000e+01, 0.00000000e+00],\n",
       "       [4.30000000e+01, 2.31213213e+05],\n",
       "       [4.40000000e+01, 2.04102774e+05],\n",
       "       [4.50000000e+01, 1.88292963e+05],\n",
       "       [4.60000000e+01, 1.80142331e+05],\n",
       "       [4.70000000e+01, 2.27144778e+05],\n",
       "       [4.80000000e+01, 2.51754383e+05],\n",
       "       [4.90000000e+01, 2.08662494e+05],\n",
       "       [5.00000000e+01, 1.75611299e+05],\n",
       "       [5.10000000e+01, 2.50872077e+04],\n",
       "       [5.20000000e+01, 1.24435654e+05]])"
      ]
     },
     "execution_count": 40,
     "metadata": {},
     "output_type": "execute_result"
    }
   ],
   "source": [
    "X=dataWeekly.iloc[:,[0,2]].values\n",
    "X"
   ]
  },
  {
   "cell_type": "code",
   "execution_count": 41,
   "metadata": {},
   "outputs": [
    {
     "data": {
      "text/plain": [
       "array([ 6,  7, 10, 10,  9,  8,  9, 14, 13, 12,  9, 18, 15, 11, 16, 12, 12,\n",
       "       15, 12, 10, 15, 21, 13, 16, 15, 19, 11, 10, 15, 12,  5,  4,  6, 21,\n",
       "        7,  7, 13,  8, 12, 10, 15,  8, 12,  7,  7, 10, 11, 16,  8, 11,  4,\n",
       "       13,  6, 12,  7,  7,  8, 10, 10, 12, 12,  7,  8, 10,  8,  9, 10,  9,\n",
       "        6,  8,  7,  8,  9, 10,  4,  7,  9,  5, 14,  5, 18, 11, 10,  3,  8,\n",
       "       16, 10, 10, 10, 10, 14, 13,  7, 10,  3, 12,  9,  7, 11,  7, 15,  8,\n",
       "        4, 11, 13, 15,  9,  8,  7, 10,  7,  9,  9,  7,  8, 10, 10,  8,  8,\n",
       "        7,  6,  7, 10,  7, 11,  9, 10, 11, 10,  9,  7,  7,  7,  5,  4,  2,\n",
       "        2,  6,  6, 12,  4,  7,  8,  7,  9,  0,  9,  8,  7,  7,  8,  9,  8,\n",
       "        7,  1,  5], dtype=int64)"
      ]
     },
     "execution_count": 41,
     "metadata": {},
     "output_type": "execute_result"
    }
   ],
   "source": [
    "y=dataWeekly.iloc[:,1].values\n",
    "y"
   ]
  },
  {
   "cell_type": "code",
   "execution_count": 42,
   "metadata": {},
   "outputs": [],
   "source": [
    "from sklearn.model_selection import train_test_split"
   ]
  },
  {
   "cell_type": "code",
   "execution_count": 43,
   "metadata": {},
   "outputs": [],
   "source": [
    "X_train, X_test, y_train, y_test = train_test_split(X, y, test_size=0.33, random_state=0)"
   ]
  },
  {
   "cell_type": "code",
   "execution_count": 44,
   "metadata": {},
   "outputs": [
    {
     "data": {
      "text/plain": [
       "((104, 2), (52, 2), (104,), (52,))"
      ]
     },
     "execution_count": 44,
     "metadata": {},
     "output_type": "execute_result"
    }
   ],
   "source": [
    "X_train.shape, X_test.shape, y_train.shape, y_test.shape"
   ]
  },
  {
   "cell_type": "code",
   "execution_count": 45,
   "metadata": {},
   "outputs": [],
   "source": [
    "from sklearn.linear_model import LinearRegression"
   ]
  },
  {
   "cell_type": "code",
   "execution_count": 46,
   "metadata": {},
   "outputs": [],
   "source": [
    "ln=LinearRegression()"
   ]
  },
  {
   "cell_type": "code",
   "execution_count": 47,
   "metadata": {},
   "outputs": [
    {
     "data": {
      "text/plain": [
       "LinearRegression()"
      ]
     },
     "execution_count": 47,
     "metadata": {},
     "output_type": "execute_result"
    }
   ],
   "source": [
    "ln.fit(X_train,y_train)"
   ]
  },
  {
   "cell_type": "code",
   "execution_count": 48,
   "metadata": {},
   "outputs": [],
   "source": [
    "y_pred=ln.predict(X_test)"
   ]
  },
  {
   "cell_type": "code",
   "execution_count": 50,
   "metadata": {},
   "outputs": [
    {
     "data": {
      "text/plain": [
       "<matplotlib.legend.Legend at 0x1b478f78b50>"
      ]
     },
     "execution_count": 50,
     "metadata": {},
     "output_type": "execute_result"
    },
    {
     "data": {
      "image/png": "[encoded data removed]",
      "text/plain": [
       "<Figure size 432x288 with 1 Axes>"
      ]
     },
     "metadata": {
      "needs_background": "light"
     },
     "output_type": "display_data"
    }
   ],
   "source": [
    "plt.plot(y_test, label='Real Values')\n",
    "plt.plot(y_pred, label='Predicted Values')\n",
    "plt.legend()"
   ]
  },
  {
   "cell_type": "code",
   "execution_count": 51,
   "metadata": {},
   "outputs": [],
   "source": [
    "from sklearn.metrics import r2_score"
   ]
  },
  {
   "cell_type": "code",
   "execution_count": 52,
   "metadata": {},
   "outputs": [
    {
     "data": {
      "text/plain": [
       "0.9668796147100206"
      ]
     },
     "execution_count": 52,
     "metadata": {},
     "output_type": "execute_result"
    }
   ],
   "source": [
    "ln.score(X_test,y_test)"
   ]
  },
  {
   "cell_type": "code",
   "execution_count": 53,
   "metadata": {},
   "outputs": [
    {
     "data": {
      "text/plain": [
       "0.9668796147100206"
      ]
     },
     "execution_count": 53,
     "metadata": {},
     "output_type": "execute_result"
    }
   ],
   "source": [
    "r2_score(y_test,y_pred)"
   ]
  },
  {
   "cell_type": "code",
   "execution_count": null,
   "metadata": {},
   "outputs": [],
   "source": []
  }
 ],
 "metadata": {
  "kernelspec": {
   "display_name": "Python 3",
   "language": "python",
   "name": "python3"
  },
  "language_info": {
   "codemirror_mode": {
    "name": "ipython",
    "version": 3
   },
   "file_extension": ".py",
   "mimetype": "text/x-python",
   "name": "python",
   "nbconvert_exporter": "python",
   "pygments_lexer": "ipython3",
   "version": "3.8.5"
  }
 },
 "nbformat": 4,
 "nbformat_minor": 4
}
